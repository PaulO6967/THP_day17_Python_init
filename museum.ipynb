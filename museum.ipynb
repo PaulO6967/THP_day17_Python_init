{
 "cells": [
  {
   "cell_type": "markdown",
   "id": "7c208f2b",
   "metadata": {},
   "source": [
    "## 2.1) import du fichier"
   ]
  },
  {
   "cell_type": "code",
   "execution_count": 44,
   "id": "26ba989d",
   "metadata": {},
   "outputs": [
    {
     "data": {
      "text/html": [
       "<div>\n",
       "<style scoped>\n",
       "    .dataframe tbody tr th:only-of-type {\n",
       "        vertical-align: middle;\n",
       "    }\n",
       "\n",
       "    .dataframe tbody tr th {\n",
       "        vertical-align: top;\n",
       "    }\n",
       "\n",
       "    .dataframe thead th {\n",
       "        text-align: right;\n",
       "    }\n",
       "</style>\n",
       "<table border=\"1\" class=\"dataframe\">\n",
       "  <thead>\n",
       "    <tr style=\"text-align: right;\">\n",
       "      <th></th>\n",
       "      <th>osm_id</th>\n",
       "      <th>name</th>\n",
       "      <th>number</th>\n",
       "      <th>street</th>\n",
       "      <th>postal_code</th>\n",
       "      <th>city</th>\n",
       "      <th>country</th>\n",
       "      <th>country_code</th>\n",
       "      <th>lat</th>\n",
       "      <th>lon</th>\n",
       "      <th>website</th>\n",
       "      <th>email</th>\n",
       "      <th>phone</th>\n",
       "      <th>fax</th>\n",
       "      <th>tags</th>\n",
       "      <th>description</th>\n",
       "      <th>date_added</th>\n",
       "      <th>wikidata</th>\n",
       "    </tr>\n",
       "  </thead>\n",
       "  <tbody>\n",
       "    <tr>\n",
       "      <th>0</th>\n",
       "      <td>4540234591</td>\n",
       "      <td>3 bis f</td>\n",
       "      <td>109</td>\n",
       "      <td>Avenue du Petit Barthélémy</td>\n",
       "      <td>13617.0</td>\n",
       "      <td>Aix-en-Provence</td>\n",
       "      <td>France</td>\n",
       "      <td>fr</td>\n",
       "      <td>43.521207</td>\n",
       "      <td>5.439875</td>\n",
       "      <td>http://www.3bisf.com</td>\n",
       "      <td>contact@3bisf.com</td>\n",
       "      <td>3.344216e+10</td>\n",
       "      <td>NaN</td>\n",
       "      <td>osm:museum;art:art contemporain</td>\n",
       "      <td>NaN</td>\n",
       "      <td>44116,00764</td>\n",
       "      <td>NaN</td>\n",
       "    </tr>\n",
       "    <tr>\n",
       "      <th>1</th>\n",
       "      <td>4388745689</td>\n",
       "      <td>A casa di Losari</td>\n",
       "      <td>NaN</td>\n",
       "      <td>T 30</td>\n",
       "      <td>20226.0</td>\n",
       "      <td>Belgodère</td>\n",
       "      <td>France</td>\n",
       "      <td>fr</td>\n",
       "      <td>42.638732</td>\n",
       "      <td>9.007660</td>\n",
       "      <td>NaN</td>\n",
       "      <td>NaN</td>\n",
       "      <td>NaN</td>\n",
       "      <td>NaN</td>\n",
       "      <td>osm:museum</td>\n",
       "      <td>NaN</td>\n",
       "      <td>43338,9394</td>\n",
       "      <td>NaN</td>\n",
       "    </tr>\n",
       "    <tr>\n",
       "      <th>2</th>\n",
       "      <td>4426176194</td>\n",
       "      <td>À l'homme volant</td>\n",
       "      <td>35</td>\n",
       "      <td>Grande Rue</td>\n",
       "      <td>72300.0</td>\n",
       "      <td>Sablé-sur-Sarthe</td>\n",
       "      <td>France</td>\n",
       "      <td>fr</td>\n",
       "      <td>47.839656</td>\n",
       "      <td>-0.334043</td>\n",
       "      <td>NaN</td>\n",
       "      <td>NaN</td>\n",
       "      <td>3.324395e+10</td>\n",
       "      <td>NaN</td>\n",
       "      <td>osm:museum;type:centre d'interpretation</td>\n",
       "      <td>NaN</td>\n",
       "      <td>42644,46366</td>\n",
       "      <td>NaN</td>\n",
       "    </tr>\n",
       "    <tr>\n",
       "      <th>3</th>\n",
       "      <td>7652598615</td>\n",
       "      <td>Abbadiale - Maison des arts</td>\n",
       "      <td>NaN</td>\n",
       "      <td>Rue du Gabizos</td>\n",
       "      <td>65400.0</td>\n",
       "      <td>Arras-en-Lavedan</td>\n",
       "      <td>France</td>\n",
       "      <td>fr</td>\n",
       "      <td>42.990826</td>\n",
       "      <td>-0.128057</td>\n",
       "      <td>https://www.abbadiale.fr/</td>\n",
       "      <td>NaN</td>\n",
       "      <td>3.363317e+10</td>\n",
       "      <td>NaN</td>\n",
       "      <td>osm:museum</td>\n",
       "      <td>NaN</td>\n",
       "      <td>44120,04668</td>\n",
       "      <td>NaN</td>\n",
       "    </tr>\n",
       "    <tr>\n",
       "      <th>4</th>\n",
       "      <td>121580330</td>\n",
       "      <td>Abbaye</td>\n",
       "      <td>NaN</td>\n",
       "      <td>Rue de l'Abbaye</td>\n",
       "      <td>39210.0</td>\n",
       "      <td>Château-Chalon</td>\n",
       "      <td>France</td>\n",
       "      <td>fr</td>\n",
       "      <td>46.753866</td>\n",
       "      <td>5.624296</td>\n",
       "      <td>NaN</td>\n",
       "      <td>NaN</td>\n",
       "      <td>NaN</td>\n",
       "      <td>NaN</td>\n",
       "      <td>osm:museum;art:architecture</td>\n",
       "      <td>NaN</td>\n",
       "      <td>43102,54919</td>\n",
       "      <td>NaN</td>\n",
       "    </tr>\n",
       "  </tbody>\n",
       "</table>\n",
       "</div>"
      ],
      "text/plain": [
       "       osm_id                         name number                      street  \\\n",
       "0  4540234591                      3 bis f    109  Avenue du Petit Barthélémy   \n",
       "1  4388745689             A casa di Losari    NaN                        T 30   \n",
       "2  4426176194             À l'homme volant     35                  Grande Rue   \n",
       "3  7652598615  Abbadiale - Maison des arts    NaN              Rue du Gabizos   \n",
       "4   121580330                       Abbaye    NaN             Rue de l'Abbaye   \n",
       "\n",
       "   postal_code              city country country_code        lat       lon  \\\n",
       "0      13617.0   Aix-en-Provence  France           fr  43.521207  5.439875   \n",
       "1      20226.0         Belgodère  France           fr  42.638732  9.007660   \n",
       "2      72300.0  Sablé-sur-Sarthe  France           fr  47.839656 -0.334043   \n",
       "3      65400.0  Arras-en-Lavedan  France           fr  42.990826 -0.128057   \n",
       "4      39210.0    Château-Chalon  France           fr  46.753866  5.624296   \n",
       "\n",
       "                     website              email         phone  fax  \\\n",
       "0       http://www.3bisf.com  contact@3bisf.com  3.344216e+10  NaN   \n",
       "1                        NaN                NaN           NaN  NaN   \n",
       "2                        NaN                NaN  3.324395e+10  NaN   \n",
       "3  https://www.abbadiale.fr/                NaN  3.363317e+10  NaN   \n",
       "4                        NaN                NaN           NaN  NaN   \n",
       "\n",
       "                                      tags description   date_added wikidata  \n",
       "0          osm:museum;art:art contemporain         NaN  44116,00764      NaN  \n",
       "1                               osm:museum         NaN   43338,9394      NaN  \n",
       "2  osm:museum;type:centre d'interpretation         NaN  42644,46366      NaN  \n",
       "3                               osm:museum         NaN  44120,04668      NaN  \n",
       "4              osm:museum;art:architecture         NaN  43102,54919      NaN  "
      ]
     },
     "metadata": {},
     "output_type": "display_data"
    }
   ],
   "source": [
    "import pandas as pd\n",
    "\n",
    "data = pd.read_csv(\"Liste-des-musees-de-france-2021.csv\")\n",
    "display(data.head())"
   ]
  },
  {
   "cell_type": "markdown",
   "id": "c9bcedec",
   "metadata": {},
   "source": [
    "## 2.2) Récupération des données"
   ]
  },
  {
   "cell_type": "raw",
   "id": "be2c7972",
   "metadata": {},
   "source": [
    "Combien y-a-t-il de musées en France métropolitaine ?"
   ]
  },
  {
   "cell_type": "code",
   "execution_count": 42,
   "id": "58f895e3",
   "metadata": {},
   "outputs": [
    {
     "name": "stdout",
     "output_type": "stream",
     "text": [
      "3783\n"
     ]
    }
   ],
   "source": [
    "print(data.shape[0])"
   ]
  },
  {
   "cell_type": "raw",
   "id": "f894b2f0",
   "metadata": {},
   "source": [
    "Dans quelle(s) ville(s) y-a-t-il de plus de musées ?"
   ]
  },
  {
   "cell_type": "code",
   "execution_count": 131,
   "id": "cfb6ec47",
   "metadata": {},
   "outputs": [
    {
     "name": "stdout",
     "output_type": "stream",
     "text": [
      "Paris\n"
     ]
    }
   ],
   "source": [
    "print(data[\"city\"].mode()[0])"
   ]
  },
  {
   "cell_type": "raw",
   "id": "bd577f5f",
   "metadata": {},
   "source": [
    "Quel est le nombre moyen de musées par ville ?"
   ]
  },
  {
   "cell_type": "code",
   "execution_count": 43,
   "id": "63ceb531",
   "metadata": {},
   "outputs": [
    {
     "name": "stdout",
     "output_type": "stream",
     "text": [
      "1.647930283224401\n"
     ]
    }
   ],
   "source": [
    "print(data[\"city\"].value_counts().mean())"
   ]
  },
  {
   "cell_type": "raw",
   "id": "152a3330",
   "metadata": {},
   "source": [
    "Quel est le nombre médian de musées par ville ?"
   ]
  },
  {
   "cell_type": "code",
   "execution_count": 79,
   "id": "a8ccf786",
   "metadata": {},
   "outputs": [
    {
     "name": "stdout",
     "output_type": "stream",
     "text": [
      "1.0\n"
     ]
    }
   ],
   "source": [
    "print(data[\"city\"].value_counts().median())"
   ]
  },
  {
   "cell_type": "raw",
   "id": "b02a8a2e",
   "metadata": {},
   "source": [
    "Comment sont répartis les musées par type (en pourcentage) ?"
   ]
  },
  {
   "cell_type": "code",
   "execution_count": 133,
   "id": "b9b5d6d9",
   "metadata": {},
   "outputs": [
    {
     "data": {
      "text/plain": [
       "ecomusee                         10.491543\n",
       "musee technique et industriel     5.549683\n",
       "musee d'histoire                  4.254757\n",
       "musee de beaux-arts               3.303383\n",
       "musee archeologique               2.880550\n",
       "musee d'art                       2.880550\n",
       "maison d'artiste                  1.717759\n",
       "musee d'arts populaires           1.532770\n",
       "musee d'histoire naturelle        1.506342\n",
       "centre d'interpretation           1.215645\n",
       "musee litteraire                  0.872093\n",
       "musee de sciences                 0.607822\n",
       "centre d'art                      0.528541\n",
       "fondation                         0.475687\n",
       "musee d'artiste                   0.396406\n",
       "atelier d'artiste                 0.211416\n",
       "bibliotheque                      0.105708\n",
       "musee ethnographique              0.079281\n",
       "musée de beaux-arts               0.052854\n",
       "type:musee d'arts populaires      0.052854\n",
       "musee d'architecture              0.026427\n",
       "maison litteraire                 0.026427\n",
       "ecomuseum                         0.026427\n",
       "musee d'art populaire             0.026427\n",
       "dtype: float64"
      ]
     },
     "metadata": {},
     "output_type": "display_data"
    }
   ],
   "source": [
    "tags = data[\"tags\"].str.split(\";\")\n",
    "tags = tags.explode()\n",
    "tags_type = tags.str.extract(r\"^type:(.*)\")\n",
    "resultat = (tags_type.value_counts()*100)/ data.shape[0]\n",
    "display(resultat)"
   ]
  },
  {
   "cell_type": "raw",
   "id": "6490d440",
   "metadata": {},
   "source": [
    "Combien y-a-t-il de musées dont le nom commence par \"Château\" ?"
   ]
  },
  {
   "cell_type": "code",
   "execution_count": 130,
   "id": "8504cad6",
   "metadata": {},
   "outputs": [
    {
     "data": {
      "text/plain": [
       "57"
      ]
     },
     "metadata": {},
     "output_type": "display_data"
    }
   ],
   "source": [
    "name =data[\"name\"]\n",
    "name_start_chateau = name.str.startswith(\"Château\").value_counts()\n",
    "display(name_start_chateau[1])"
   ]
  },
  {
   "cell_type": "raw",
   "id": "128b3a55",
   "metadata": {},
   "source": [
    "Pour combien de musées dispose-t-on de l'adresse du site web ?"
   ]
  },
  {
   "cell_type": "code",
   "execution_count": 137,
   "id": "0372fc7c",
   "metadata": {},
   "outputs": [
    {
     "data": {
      "text/plain": [
       "1636"
      ]
     },
     "metadata": {},
     "output_type": "display_data"
    }
   ],
   "source": [
    "website = data[\"website\"]\n",
    "display(website.str.contains(\"\").value_counts()[0])"
   ]
  },
  {
   "cell_type": "code",
   "execution_count": null,
   "id": "5ea40bb5",
   "metadata": {},
   "outputs": [],
   "source": [
    "Quel département français possède le plus de musées sur son territoire ?"
   ]
  },
  {
   "cell_type": "code",
   "execution_count": 144,
   "id": "893cec5b",
   "metadata": {},
   "outputs": [
    {
     "data": {
      "text/plain": [
       "'75'"
      ]
     },
     "metadata": {},
     "output_type": "display_data"
    }
   ],
   "source": [
    "postal_code = data[\"postal_code\"]\n",
    "display(postal_code.astype(str).str[:2].value_counts().idxmax())"
   ]
  },
  {
   "cell_type": "raw",
   "id": "1db129e7",
   "metadata": {},
   "source": [
    "Quel département français possède le moins de musées sur son territoire ?"
   ]
  },
  {
   "cell_type": "code",
   "execution_count": 148,
   "id": "2ef2d57b",
   "metadata": {},
   "outputs": [
    {
     "data": {
      "text/plain": [
       "'98'"
      ]
     },
     "metadata": {},
     "output_type": "display_data"
    }
   ],
   "source": [
    "postal_code = data[\"postal_code\"]\n",
    "display(postal_code.astype(str).str[:2].value_counts().idxmin())"
   ]
  },
  {
   "cell_type": "raw",
   "id": "e4f32a9f",
   "metadata": {},
   "source": [
    "Combien de musées ont \"Napoléon\" dans leur nom ?"
   ]
  },
  {
   "cell_type": "code",
   "execution_count": 152,
   "id": "89a69b41",
   "metadata": {},
   "outputs": [
    {
     "data": {
      "text/plain": [
       "5"
      ]
     },
     "metadata": {},
     "output_type": "display_data"
    }
   ],
   "source": [
    "name =data[\"name\"]\n",
    "name_start_chateau = name.str.contains(\"Napol\").value_counts()\n",
    "display(name_start_chateau[1])"
   ]
  },
  {
   "cell_type": "markdown",
   "id": "a156c5fd",
   "metadata": {},
   "source": [
    "il y a le classement des musées les plus populaires en france sur le site de trip advisor.\n",
    "https://www.tripadvisor.fr/Attractions-g187070-Activities-c49-France.html\n",
    "il faudrat lme scrapper du site et le convertire en .csv"
   ]
  },
  {
   "cell_type": "markdown",
   "id": "374ba6c0",
   "metadata": {},
   "source": [
    "il y a la liste des ouevres du musée d'orsey sur wiki pedia pour mettre en avant certain tableau ou sculpture\n",
    "https://fr.wikipedia.org/wiki/Liste_des_%C5%93uvres_publiques_du_7e_arrondissement_de_Paris"
   ]
  }
 ],
 "metadata": {
  "kernelspec": {
   "display_name": "Python 3 (ipykernel)",
   "language": "python",
   "name": "python3"
  },
  "language_info": {
   "codemirror_mode": {
    "name": "ipython",
    "version": 3
   },
   "file_extension": ".py",
   "mimetype": "text/x-python",
   "name": "python",
   "nbconvert_exporter": "python",
   "pygments_lexer": "ipython3",
   "version": "3.11.3"
  }
 },
 "nbformat": 4,
 "nbformat_minor": 5
}
